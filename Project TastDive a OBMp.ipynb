{
 "cells": [
  {
   "cell_type": "code",
   "execution_count": 1,
   "metadata": {},
   "outputs": [],
   "source": [
    "import requests\n",
    "\n",
    "tastedive_key = \"367007-dangquyt-VSK39QKH\"\n",
    "def get_movies_from_tastedive(name):       #extracted from tastedive.com \n",
    "    baseurl = \"https://tastedive.com/api/similar\"\n",
    "    params_diction = {}\n",
    "    params_diction[\"k\"] = tastedive_key\n",
    "    params_diction[\"q\"] = name\n",
    "    params_diction[\"type\"] = \"movies\"\n",
    "    params_diction[\"limit\"] = 5\n",
    "    tastedive_req = requests.get(baseurl, params = params_diction)\n",
    "    #print(tastedive_req.url)\n",
    "    return tastedive_req.json()\n"
   ]
  },
  {
   "cell_type": "code",
   "execution_count": 2,
   "metadata": {},
   "outputs": [],
   "source": [
    "def extract_movie_titles(dit_from_tastedive): # extracts just the list of movie titles from a dictionary returned by get_movies_from_tastedive\n",
    "    movies_titles = []\n",
    "    for movie in dit_from_tastedive[\"Similar\"][\"Results\"]:\n",
    "        movies_titles.append(movie[\"Name\"])\n",
    "    return movies_titles\n"
   ]
  },
  {
   "cell_type": "code",
   "execution_count": 3,
   "metadata": {},
   "outputs": [],
   "source": [
    "def get_related_movies(list_movies_title): #, called get_related_titles. It takes a list of movie titles as input. It gets five related movies for each from TasteDive, extracts the titles for all of them, and combines them all into a single list\n",
    "    related_movies = []\n",
    "    for movie in list_movies_title:\n",
    "        if movie not in related_movies:\n",
    "            related_movies.append(movie)\n",
    "        data_2 = get_movies_from_tastedive(movie)\n",
    "        movies_titles_2 = extract_movie_titles(data_2)\n",
    "        for movie_2 in movies_titles_2:\n",
    "            if movie_2 not in related_movies:\n",
    "                related_movies.append(movie_2)\n",
    "    return related_movies\n"
   ]
  },
  {
   "cell_type": "markdown",
   "metadata": {},
   "source": [
    "OMDB go now"
   ]
  },
  {
   "cell_type": "code",
   "execution_count": 4,
   "metadata": {},
   "outputs": [],
   "source": [
    "omdb_api_key = \"fe23422a\"\n",
    "i = \"tt3896198\"\n",
    "def get_movie_data(movie):  #The function should return a dictionary with information about that movie.\n",
    "    movie = movie.lower() \n",
    "    baseurl = \"https://www.omdbapi.com/\"\n",
    "    params_diction = {}\n",
    "    params_diction[\"i\"] = i\n",
    "    params_diction[\"apikey\"] = omdb_api_key\n",
    "    params_diction[\"t\"] = movie\n",
    "    omdb_api_req = requests.get(baseurl, params = params_diction)\n",
    "    #print(omdb_api_req.url)\n",
    "    return omdb_api_req.json()"
   ]
  },
  {
   "cell_type": "code",
   "execution_count": 5,
   "metadata": {},
   "outputs": [],
   "source": [
    "def get_movie_rating(data_from_omdb): #. It takes an OMDB dictionary result for one movie and extracts the Rotten Tomatoes rating as an integer\n",
    "    if \"Error\" in data_from_omdb:\n",
    "        return \"Error\"\n",
    "    else:\n",
    "        for dit in data_from_omdb[\"Ratings\"]:\n",
    "            if dit[\"Source\"] == \"Rotten Tomatoes\":\n",
    "                return dit[\"Value\"]\n",
    "        return \"Dont have Rotteen's rating\"\n"
   ]
  },
  {
   "cell_type": "code",
   "execution_count": 6,
   "metadata": {},
   "outputs": [],
   "source": [
    "def sort_score(score):\n",
    "    i = 0\n",
    "    if \"%\" in score:\n",
    "        i += 1\n",
    "        if len(score) == 3:\n",
    "            i += 1\n",
    "    return i"
   ]
  },
  {
   "cell_type": "code",
   "execution_count": 7,
   "metadata": {},
   "outputs": [],
   "source": [
    "\n",
    "\n",
    "def get_sorted_recommendations(related_movies): #It takes a list of movie titles as an input. It returns a sorted list of related movie titles as output, up to five related movies for each input movie title.\n",
    "    dict_movies = {}\n",
    "    for movie in related_movies:\n",
    "        dict_movies[movie] = get_movie_rating(get_movie_data(movie))\n",
    "    final_list_movie = sorted(dict_movies.keys(), key= lambda x:(sort_score(dict_movies[x]), dict_movies[x], len(dict_movies[x])), reverse= True)\n",
    "    for movie in dict_movies:\n",
    "        print(movie + \":\" + dict_movies[movie])\n",
    "    return final_list_movie\n"
   ]
  },
  {
   "cell_type": "code",
   "execution_count": 8,
   "metadata": {
    "tags": []
   },
   "outputs": [
    {
     "name": "stdout",
     "output_type": "stream",
     "text": [
      "Recomendatins of 'batman' is:...'\n",
      "Batman Returns:80%\n",
      "Batman:71%\n",
      "Batman Forever:38%\n",
      "Superman Returns:75%\n",
      "Batman & Robin:12%\n",
      "Elektra:11%\n",
      "Superman II:86%\n",
      "Superman:94%\n",
      "Superman III:30%\n",
      "Superman IV: The Quest For Peace:11%\n",
      "Spider-Man:90%\n",
      "Supergirl:Dont have Rotteen's rating\n",
      "Spider-Man 2:93%\n",
      "Spider-Man 3:63%\n",
      "Iron Man:94%\n",
      "Iron Man 2:72%\n",
      "Captain America: The First Avenger:80%\n",
      "Star Trek II: The Wrath Of Khan:86%\n",
      "X2: X-Men United:85%\n",
      "X-Men:82%\n",
      "X-Men 3: The Last Stand:Error\n",
      "['Superman', 'Iron Man', 'Spider-Man 2', 'Spider-Man', 'Superman II', 'Star Trek II: The Wrath Of Khan', 'X2: X-Men United', 'X-Men', 'Batman Returns', 'Captain America: The First Avenger', 'Superman Returns', 'Iron Man 2', 'Batman', 'Spider-Man 3', 'Batman Forever', 'Superman III', 'Batman & Robin', 'Elektra', 'Superman IV: The Quest For Peace', 'X-Men 3: The Last Stand', 'Supergirl']\n"
     ]
    }
   ],
   "source": [
    "x = input(\" Enter your film: \") \n",
    "print(\"Recomendatins of '{}' is:...'\".format(x))\n",
    "print(get_sorted_recommendations(get_related_movies(extract_movie_titles(get_movies_from_tastedive(x)))))"
   ]
  },
  {
   "cell_type": "code",
   "execution_count": null,
   "metadata": {},
   "outputs": [],
   "source": []
  }
 ],
 "metadata": {
  "interpreter": {
   "hash": "4c20000b2da034f5d34eccfee79ee9a129d6e00cc79f4b5c984e703d827aaea7"
  },
  "kernelspec": {
   "display_name": "Python 3.9.2 64-bit",
   "name": "python3"
  },
  "language_info": {
   "codemirror_mode": {
    "name": "ipython",
    "version": 3
   },
   "file_extension": ".py",
   "mimetype": "text/x-python",
   "name": "python",
   "nbconvert_exporter": "python",
   "pygments_lexer": "ipython3",
   "version": "3.9.2"
  },
  "orig_nbformat": 2
 },
 "nbformat": 4,
 "nbformat_minor": 2
}
